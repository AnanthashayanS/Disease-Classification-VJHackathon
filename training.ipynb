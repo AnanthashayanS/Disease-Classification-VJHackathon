{
 "cells": [
  {
   "cell_type": "code",
   "execution_count": 1,
   "metadata": {},
   "outputs": [],
   "source": [
    "from keras.applications.inception_v3 import InceptionV3\n",
    "from tensorflow.keras.optimizers import SGD\n",
    "from tensorflow.keras.preprocessing.image import ImageDataGenerator\n",
    "from keras.models import Model\n",
    "from tensorflow.keras.layers import Dense, GlobalAveragePooling2D\n",
    "from keras.callbacks import ModelCheckpoint, TensorBoard, EarlyStopping\n",
    "import os.path\n"
   ]
  },
  {
   "cell_type": "code",
   "execution_count": 2,
   "metadata": {},
   "outputs": [],
   "source": [
    "weights='imagenet'\n",
    "base_model = InceptionV3(weights=weights, include_top=False)\n",
    "x = base_model.output\n",
    "x = GlobalAveragePooling2D()(x)\n",
    "x = Dense(1024, activation='relu')(x)\n",
    "predictions = Dense(2, activation='softmax')(x)\n",
    "model = Model(inputs=base_model.input, outputs=predictions)\n",
    "\n",
    "\n",
    "for layer in model.layers[:-2]:\n",
    "    layer.trainable = False\n",
    "    \n",
    "\n",
    "    # compile the model (should be done *after* setting layers to non-trainable)\n",
    "model.compile(optimizer='rmsprop', loss='categorical_crossentropy', metrics=['accuracy'])\n",
    "\n",
    "\n"
   ]
  },
  {
   "cell_type": "code",
   "execution_count": 3,
   "metadata": {},
   "outputs": [
    {
     "name": "stdout",
     "output_type": "stream",
     "text": [
      "Found 2232 images belonging to 2 classes.\n"
     ]
    },
    {
     "data": {
      "text/plain": [
       "<keras.preprocessing.image.DirectoryIterator at 0x246b5ddbcd0>"
      ]
     },
     "execution_count": 3,
     "metadata": {},
     "output_type": "execute_result"
    }
   ],
   "source": [
    "train_datagen = ImageDataGenerator(\n",
    "        rescale=1./255,\n",
    "        shear_range=0.2,\n",
    "        horizontal_flip=True,\n",
    "        rotation_range=10.,\n",
    "        width_shift_range=0.2,\n",
    "        height_shift_range=0.2)\n",
    "\n",
    "test_datagen = ImageDataGenerator(rescale=1./255)\n",
    "\n",
    "train_generator = train_datagen.flow_from_directory(r\"C:\\Users\\lalith kumar\\Desktop\\Rice leaf vjhack\",\n",
    "        target_size=(299, 299),\n",
    "        batch_size=32,\n",
    "        class_mode='categorical')\n",
    "train_generator\n"
   ]
  },
  {
   "cell_type": "code",
   "execution_count": 4,
   "metadata": {},
   "outputs": [
    {
     "name": "stderr",
     "output_type": "stream",
     "text": [
      "C:\\Users\\lalith kumar\\anaconda3\\lib\\site-packages\\keras\\engine\\training.py:1972: UserWarning: `Model.fit_generator` is deprecated and will be removed in a future version. Please use `Model.fit`, which supports generators.\n",
      "  warnings.warn('`Model.fit_generator` is deprecated and '\n"
     ]
    },
    {
     "name": "stdout",
     "output_type": "stream",
     "text": [
      "Epoch 1/10\n",
      "70/70 [==============================] - 357s 5s/step - loss: 1.2843 - accuracy: 0.6313\n",
      "Epoch 2/10\n",
      "70/70 [==============================] - 365s 5s/step - loss: 0.6090 - accuracy: 0.6855\n",
      "Epoch 3/10\n",
      "70/70 [==============================] - 399s 6s/step - loss: 0.5395 - accuracy: 0.7482\n",
      "Epoch 4/10\n",
      "70/70 [==============================] - 404s 6s/step - loss: 0.5101 - accuracy: 0.7572\n",
      "Epoch 5/10\n",
      "70/70 [==============================] - 392s 6s/step - loss: 0.4835 - accuracy: 0.7634\n",
      "Epoch 6/10\n",
      "70/70 [==============================] - 370s 5s/step - loss: 0.4534 - accuracy: 0.7863\n",
      "Epoch 7/10\n",
      "70/70 [==============================] - 388s 6s/step - loss: 0.4356 - accuracy: 0.8087\n",
      "Epoch 8/10\n",
      "70/70 [==============================] - 391s 6s/step - loss: 0.4225 - accuracy: 0.8109\n",
      "Epoch 9/10\n",
      "70/70 [==============================] - 390s 6s/step - loss: 0.4181 - accuracy: 0.8145\n",
      "Epoch 10/10\n",
      "70/70 [==============================] - 376s 5s/step - loss: 0.4147 - accuracy: 0.8190\n"
     ]
    },
    {
     "data": {
      "text/plain": [
       "<keras.callbacks.History at 0x246fe6bae20>"
      ]
     },
     "execution_count": 4,
     "metadata": {},
     "output_type": "execute_result"
    }
   ],
   "source": [
    "model.fit_generator(\n",
    "        train_generator,\n",
    "        epochs=10)"
   ]
  },
  {
   "cell_type": "code",
   "execution_count": 5,
   "metadata": {},
   "outputs": [],
   "source": [
    "import cv2 as cv\n",
    "from tensorflow.keras.applications.mobilenet_v2 import preprocess_input\n"
   ]
  },
  {
   "cell_type": "code",
   "execution_count": null,
   "metadata": {},
   "outputs": [],
   "source": [
    "import tensorflow as tf\n",
    "import numpy as np\n",
    "img_path = r'C:\\Users\\lalith kumar\\Desktop\\Rice leaf vjhack\\healthy\\IMG_20190419_141007.jpg'\n",
    "img=cv.imread(img_path)\n",
    "face=cv.resize(img,(244,244))\n",
    "im=tf.keras.preprocessing.image.img_to_array(face)\n",
    "img_array=np.array(im)\n",
    "img_array=preprocess_input(img_array)\n",
    "img_array=np.expand_dims(img_array,axis=0)\n",
    "pred=[]\n",
    "pred=model.predict(img_array)[0]\n",
    "l=max(pred)\n",
    "li=[\"healthy\",\"unhealthy\"]\n",
    "pi=[(0,255,0),(0,0,255),(0,0,225)]\n",
    "for x in range(0,2):\n",
    " if(l==pred[x]):\n",
    "     v=x\n",
    "img=cv.resize(img,(700,500))        \n",
    "cv.putText(img, li[v], (0,20), cv.FONT_HERSHEY_TRIPLEX, 1.0, pi[v], 2)\n",
    "cv.imshow('pic', img)      \n",
    "cv.waitKey(0)"
   ]
  },
  {
   "cell_type": "code",
   "execution_count": null,
   "metadata": {},
   "outputs": [],
   "source": []
  },
  {
   "cell_type": "code",
   "execution_count": null,
   "metadata": {},
   "outputs": [],
   "source": []
  },
  {
   "cell_type": "code",
   "execution_count": null,
   "metadata": {},
   "outputs": [],
   "source": []
  },
  {
   "cell_type": "code",
   "execution_count": null,
   "metadata": {},
   "outputs": [],
   "source": []
  }
 ],
 "metadata": {
  "kernelspec": {
   "display_name": "Python 3",
   "language": "python",
   "name": "python3"
  },
  "language_info": {
   "codemirror_mode": {
    "name": "ipython",
    "version": 3
   },
   "file_extension": ".py",
   "mimetype": "text/x-python",
   "name": "python",
   "nbconvert_exporter": "python",
   "pygments_lexer": "ipython3",
   "version": "3.8.8"
  }
 },
 "nbformat": 4,
 "nbformat_minor": 4
}
