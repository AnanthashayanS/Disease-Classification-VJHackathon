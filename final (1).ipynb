{
 "cells": [
  {
   "cell_type": "code",
   "execution_count": 13,
   "metadata": {},
   "outputs": [],
   "source": [
    "from keras.models import model_from_json\n",
    "json_file = open('hVU.json', 'r')\n",
    "loaded_model_json = json_file.read()\n",
    "json_file.close()\n",
    "model1 = model_from_json(loaded_model_json)\n",
    "\n",
    "\n",
    "\n",
    "model1.load_weights(\"hVU.h5\")\n",
    "from tensorflow.keras.models import model_from_json\n",
    "json_file = open('heVUn.json', 'r')\n",
    "loaded_model_json = json_file.read()\n",
    "json_file.close()\n",
    "model2 = model_from_json(loaded_model_json)\n",
    "\n",
    "\n",
    "\n",
    "model2.load_weights(\"heVUn.h5\")\n",
    "\n",
    "from tensorflow.keras.applications.inception_v3 import InceptionV3\n",
    "from tensorflow.keras.optimizers import SGD\n",
    "from keras.preprocessing.image import ImageDataGenerator\n",
    "from keras.models import Model\n",
    "from keras.layers import Dense, GlobalAveragePooling2D\n",
    "from tensorflow.keras.callbacks import ModelCheckpoint, TensorBoard, EarlyStopping\n",
    "import os.path\n",
    "import cv2 as cv\n",
    "from tensorflow.keras.applications.mobilenet_v2 import preprocess_input"
   ]
  },
  {
   "cell_type": "code",
   "execution_count": 17,
   "metadata": {},
   "outputs": [
    {
     "name": "stdout",
     "output_type": "stream",
     "text": [
      "unhealthy\n"
     ]
    }
   ],
   "source": [
    "import tensorflow as tf\n",
    "import numpy as np\n",
    "img_path = r'C:\\Users\\lalith kumar\\Desktop\\Rice leaf vjhack\\Unhealthy\\IMG_3181.jpg'\n",
    "img=cv.imread(img_path)\n",
    "face=cv.resize(img,(244,244))\n",
    "im=tf.keras.preprocessing.image.img_to_array(face)\n",
    "img_array=np.array(im)\n",
    "img_array=preprocess_input(img_array)\n",
    "img_array=np.expand_dims(img_array,axis=0)\n",
    "pred=[]\n",
    "pred=model1.predict(img_array)[0]\n",
    "l=max(pred)\n",
    "li=[\"healthy\",\"unhealthy\"]\n",
    "pi=[(0,255,0),(0,0,255)]\n",
    "for x in range(0,2):\n",
    " if(l==pred[x]):\n",
    "     v=x\n",
    "m1=li[v]\n",
    "\n",
    "img=cv.resize(img,(700,500))        \n",
    "\n",
    "print(m1)"
   ]
  },
  {
   "cell_type": "code",
   "execution_count": 19,
   "metadata": {},
   "outputs": [
    {
     "name": "stdout",
     "output_type": "stream",
     "text": [
      "unhealthy\n",
      "Hispa\n",
      "Crop rotation\n"
     ]
    }
   ],
   "source": [
    "if m1==\"healthy\":\n",
    " cv.imshow('pic', img)   \n",
    " cv.putText(img,'HEALTHY', (0,20), cv.FONT_HERSHEY_TRIPLEX, 1.0, pi[0], 2)\n",
    " cv.waitKey(0)\n",
    " print(\"healthy\")\n",
    "else:\n",
    "    pred2=[]\n",
    "    pred2=model2.predict(img_array)[0]\n",
    "    l2=max(pred2)\n",
    "    li2=[\"Brown Spot\",\"Hispa\",\"Leaf Blast\"]\n",
    "    for x2 in range(0,3):\n",
    "     if(l2==pred2[x2]):\n",
    "       w=x2\n",
    "    m2=li2[w]\n",
    "    solution=[\"Since the fungus is seed transmitted, a hot water seed treatment (53-54°C) for 10-12 minutes may be effective before sowing.\",\"Crop rotation\",\"Application of bordeaux mixture\"]\n",
    "    val=\"Solution -\"+solution[w]\n",
    "    cv.imshow('pic', img)   \n",
    "    cv.putText(img,m2, (0,20), cv.FONT_HERSHEY_TRIPLEX, 1.0, pi[1], 2)\n",
    "    cv.putText(img,val, (0,400), cv.FONT_HERSHEY_TRIPLEX, 1.0, pi[0], 2)\n",
    "    cv.waitKey(0)\n",
    "    print(\"unhealthy\")\n",
    "    print(m2)\n",
    "    print(solution[w])\n"
   ]
  },
  {
   "cell_type": "code",
   "execution_count": null,
   "metadata": {},
   "outputs": [],
   "source": []
  },
  {
   "cell_type": "code",
   "execution_count": null,
   "metadata": {},
   "outputs": [],
   "source": []
  }
 ],
 "metadata": {
  "kernelspec": {
   "display_name": "Python 3",
   "language": "python",
   "name": "python3"
  },
  "language_info": {
   "codemirror_mode": {
    "name": "ipython",
    "version": 3
   },
   "file_extension": ".py",
   "mimetype": "text/x-python",
   "name": "python",
   "nbconvert_exporter": "python",
   "pygments_lexer": "ipython3",
   "version": "3.8.8"
  }
 },
 "nbformat": 4,
 "nbformat_minor": 4
}
